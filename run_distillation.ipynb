{
 "cells": [
  {
   "cell_type": "markdown",
   "metadata": {},
   "source": [
    "# Contrastive Knowledge Distillation Runner\n",
    "\n",
    "This notebook runs the main training script (`main.py`) for the knowledge distillation project."
   ]
  },
  {
   "cell_type": "markdown",
   "metadata": {},
   "source": [
    "## 1. Setup\n",
    "\n",
    "First, let's make sure our environment is set up and we have the data."
   ]
  },
  {
   "cell_type": "code",
   "execution_count": null,
   "metadata": {},
   "outputs": [],
   "source": [
    "# Install dependencies\n",
    "!pip install -r requirements.txt\n",
    "\n",
    "# Check for data files\n",
    "import os\n",
    "\n",
    "if not os.path.exists('data/train.csv') or not os.path.exists('data/val.csv'):\n",
    "    print(\"ERROR: 'data/train.csv' or 'data/val.csv' not found.\")\n",
    "    print(\"Please create a 'data' directory and place the CSV files there.\")\n",
    "else:\n",
    "    print('Data files found.')"
   ]
  },
  {
   "cell_type": "markdown",
   "metadata": {},
   "source": [
    "## 2. Run Training (Symmetric Loss)\n",
    "\n",
    "This runs the main training script with the default **symmetric CLIP loss** for 5 epochs."
   ]
  },
  {
   "cell_type": "code",
   "execution_count": null,
   "metadata": {},
   "outputs": [],
   "source": [
    "!python main.py --epochs 5 --batch_size 128 --loss_type symmetric"
   ]
  },
  {
   "cell_type": "markdown",
   "metadata": {},
   "source": [
    "## 3. Run Training (Alternative Loss)\n",
    "\n",
    "This runs the training script using the **alternative (simplified) loss**."
   ]
  },
  {
   "cell_type": "code",
   "execution_count": null,
   "metadata": {},
   "outputs": [],
   "source": [
    "!python main.py --epochs 5 --batch_size 128 --loss_type alternative"
   ]
  },
  {
   "cell_type": "markdown",
   "metadata": {},
   "source": [
    "## 4. View Logs\n",
    "\n",
    "You can check the detailed log file to see the training progress."
   ]
  },
  {
   "cell_type": "code",
   "execution_count": null,
   "metadata": {},
   "outputs": [],
   "source": [
    "!cat logs/distillation.log"
   ]
  }
 ],
 "metadata": {
  "kernelspec": {
   "display_name": "Python 3",
   "language": "python",
   "name": "python3"
  },
  "language_info": {
   "name": "python",
   "version": "3.10.0"
  }
 },
 "nbformat": 4,
 "nbformat_minor": 2
}